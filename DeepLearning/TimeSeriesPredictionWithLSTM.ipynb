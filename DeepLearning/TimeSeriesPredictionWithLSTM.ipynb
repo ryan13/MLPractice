{
 "cells": [
  {
   "cell_type": "markdown",
   "metadata": {},
   "source": [
    "## Introduction:   \n",
    "Instead of multilayer perceptron (see Intro_recurrentNeural Network notebook), we will experiment LSTM recurrent neural network on time series airline Passenger prediction.\n"
   ]
  },
  {
   "cell_type": "code",
   "execution_count": 10,
   "metadata": {
    "collapsed": true
   },
   "outputs": [],
   "source": [
    "import math\n",
    "import numpy as np\n",
    "import pandas as pd\n",
    "import matplotlib.pyplot as plt\n",
    "from keras.models import Sequential\n",
    "from keras.layers import Dense, LSTM\n",
    "from sklearn.preprocessing import MinMaxScaler\n",
    "from sklearn.metrics import mean_squared_error\n",
    "seed =7\n",
    "np.random.seed(seed)\n",
    "dataframe = pd.read_csv('/home/tri/Downloads/MLdatasets/international-airline-passengers.csv', usecols=[1],engine='python',skipfooter=3)\n",
    "dataset =dataframe.values.astype('float32')"
   ]
  },
  {
   "cell_type": "code",
   "execution_count": 5,
   "metadata": {},
   "outputs": [
    {
     "data": {
      "text/html": [
       "<div>\n",
       "<style>\n",
       "    .dataframe thead tr:only-child th {\n",
       "        text-align: right;\n",
       "    }\n",
       "\n",
       "    .dataframe thead th {\n",
       "        text-align: left;\n",
       "    }\n",
       "\n",
       "    .dataframe tbody tr th {\n",
       "        vertical-align: top;\n",
       "    }\n",
       "</style>\n",
       "<table border=\"1\" class=\"dataframe\">\n",
       "  <thead>\n",
       "    <tr style=\"text-align: right;\">\n",
       "      <th></th>\n",
       "      <th>International airline passengers: monthly totals in thousands. Jan 49 ? Dec 60</th>\n",
       "    </tr>\n",
       "  </thead>\n",
       "  <tbody>\n",
       "    <tr>\n",
       "      <th>0</th>\n",
       "      <td>112</td>\n",
       "    </tr>\n",
       "    <tr>\n",
       "      <th>1</th>\n",
       "      <td>118</td>\n",
       "    </tr>\n",
       "    <tr>\n",
       "      <th>2</th>\n",
       "      <td>132</td>\n",
       "    </tr>\n",
       "    <tr>\n",
       "      <th>3</th>\n",
       "      <td>129</td>\n",
       "    </tr>\n",
       "    <tr>\n",
       "      <th>4</th>\n",
       "      <td>121</td>\n",
       "    </tr>\n",
       "  </tbody>\n",
       "</table>\n",
       "</div>"
      ],
      "text/plain": [
       "   International airline passengers: monthly totals in thousands. Jan 49 ? Dec 60\n",
       "0                                                112                             \n",
       "1                                                118                             \n",
       "2                                                132                             \n",
       "3                                                129                             \n",
       "4                                                121                             "
      ]
     },
     "execution_count": 5,
     "metadata": {},
     "output_type": "execute_result"
    }
   ],
   "source": [
    "dataframe[:5]"
   ]
  },
  {
   "cell_type": "markdown",
   "metadata": {},
   "source": [
    "### Preprocessing data:  \n",
    "LSTM is sensitive with range of data. A good practice is to scale (normalize) before building model"
   ]
  },
  {
   "cell_type": "code",
   "execution_count": 7,
   "metadata": {
    "collapsed": true
   },
   "outputs": [],
   "source": [
    "scaler = MinMaxScaler(feature_range=(0,1))\n",
    "dataset = scaler.fit_transform(dataset)"
   ]
  },
  {
   "cell_type": "markdown",
   "metadata": {},
   "source": [
    "## Create a new data"
   ]
  },
  {
   "cell_type": "code",
   "execution_count": 14,
   "metadata": {
    "collapsed": true
   },
   "outputs": [],
   "source": [
    "def create_dataset(dataset,look_back=1):\n",
    "    dataX, dataY =[],[]\n",
    "    for i in range(len(dataset) -look_back-1):\n",
    "        a = dataset[i:(i+look_back),0]\n",
    "        dataX.append(a)\n",
    "        dataY.append(dataset[i+look_back,0])\n",
    "    return np.array(dataX),np.array(dataY)    "
   ]
  },
  {
   "cell_type": "code",
   "execution_count": 29,
   "metadata": {
    "collapsed": true
   },
   "outputs": [],
   "source": [
    "train_size = int(len(dataset)*0.67)\n",
    "test_size = len(dataset) - train_size\n",
    "train,test = dataset[0:train_size,:], dataset[train_size:len(dataset),:]"
   ]
  },
  {
   "cell_type": "code",
   "execution_count": 30,
   "metadata": {},
   "outputs": [],
   "source": [
    "look_back =3\n",
    "trainX,trainY = create_dataset(train, look_back)\n",
    "testX,testY  = create_dataset(test, look_back)"
   ]
  },
  {
   "cell_type": "markdown",
   "metadata": {},
   "source": [
    " Transform data into LSTM format **[samples,time steps, features]** from current preprocessed data format **[sample,feature]**"
   ]
  },
  {
   "cell_type": "code",
   "execution_count": 31,
   "metadata": {},
   "outputs": [],
   "source": [
    "# reshape input \n",
    "trainX = np.reshape(trainX,(trainX.shape[0],trainX.shape[1],1))\n",
    "testX  = np.reshape(testX,(testX.shape[0],testX.shape[1],1))"
   ]
  },
  {
   "cell_type": "code",
   "execution_count": 32,
   "metadata": {},
   "outputs": [
    {
     "name": "stdout",
     "output_type": "stream",
     "text": [
      "Epoch 1/100\n",
      "0s - loss: 51444.2919\n",
      "Epoch 2/100\n",
      "0s - loss: 51349.8884\n",
      "Epoch 3/100\n",
      "0s - loss: 51254.8137\n",
      "Epoch 4/100\n",
      "0s - loss: 51159.3485\n",
      "Epoch 5/100\n",
      "0s - loss: 51064.4965\n",
      "Epoch 6/100\n",
      "0s - loss: 50970.1244\n",
      "Epoch 7/100\n",
      "0s - loss: 50875.9092\n",
      "Epoch 8/100\n",
      "0s - loss: 50781.9117\n",
      "Epoch 9/100\n",
      "0s - loss: 50687.8101\n",
      "Epoch 10/100\n",
      "0s - loss: 50594.0016\n",
      "Epoch 11/100\n",
      "0s - loss: 50500.1948\n",
      "Epoch 12/100\n",
      "0s - loss: 50406.7790\n",
      "Epoch 13/100\n",
      "0s - loss: 50313.0669\n",
      "Epoch 14/100\n",
      "0s - loss: 50219.9283\n",
      "Epoch 15/100\n",
      "0s - loss: 50126.5987\n",
      "Epoch 16/100\n",
      "0s - loss: 50033.6930\n",
      "Epoch 17/100\n",
      "0s - loss: 49940.6131\n",
      "Epoch 18/100\n",
      "0s - loss: 49847.7892\n",
      "Epoch 19/100\n",
      "0s - loss: 49755.4320\n",
      "Epoch 20/100\n",
      "0s - loss: 49662.4941\n",
      "Epoch 21/100\n",
      "0s - loss: 49570.6017\n",
      "Epoch 22/100\n",
      "0s - loss: 49477.9234\n",
      "Epoch 23/100\n",
      "0s - loss: 49385.8396\n",
      "Epoch 24/100\n",
      "0s - loss: 49293.5986\n",
      "Epoch 25/100\n",
      "0s - loss: 49201.9550\n",
      "Epoch 26/100\n",
      "0s - loss: 49109.6975\n",
      "Epoch 27/100\n",
      "0s - loss: 49018.3449\n",
      "Epoch 28/100\n",
      "0s - loss: 48926.3977\n",
      "Epoch 29/100\n",
      "0s - loss: 48834.9773\n",
      "Epoch 30/100\n",
      "0s - loss: 48743.5108\n",
      "Epoch 31/100\n",
      "0s - loss: 48652.0913\n",
      "Epoch 32/100\n",
      "0s - loss: 48560.9244\n",
      "Epoch 33/100\n",
      "0s - loss: 48469.7382\n",
      "Epoch 34/100\n",
      "0s - loss: 48378.9176\n",
      "Epoch 35/100\n",
      "0s - loss: 48288.0689\n",
      "Epoch 36/100\n",
      "0s - loss: 48197.4361\n",
      "Epoch 37/100\n",
      "0s - loss: 48106.9936\n",
      "Epoch 38/100\n",
      "0s - loss: 48016.5314\n",
      "Epoch 39/100\n",
      "0s - loss: 47926.1825\n",
      "Epoch 40/100\n",
      "0s - loss: 47836.0236\n",
      "Epoch 41/100\n",
      "0s - loss: 47745.8625\n",
      "Epoch 42/100\n",
      "0s - loss: 47655.8091\n",
      "Epoch 43/100\n",
      "0s - loss: 47566.1583\n",
      "Epoch 44/100\n",
      "0s - loss: 47476.3597\n",
      "Epoch 45/100\n",
      "0s - loss: 47386.6983\n",
      "Epoch 46/100\n",
      "0s - loss: 47297.3517\n",
      "Epoch 47/100\n",
      "0s - loss: 47207.7661\n",
      "Epoch 48/100\n",
      "0s - loss: 47118.3291\n",
      "Epoch 49/100\n",
      "0s - loss: 47029.1757\n",
      "Epoch 50/100\n",
      "0s - loss: 46939.9032\n",
      "Epoch 51/100\n",
      "0s - loss: 46850.8056\n",
      "Epoch 52/100\n",
      "0s - loss: 46761.9628\n",
      "Epoch 53/100\n",
      "0s - loss: 46672.9221\n",
      "Epoch 54/100\n",
      "0s - loss: 46584.0826\n",
      "Epoch 55/100\n",
      "0s - loss: 46495.5019\n",
      "Epoch 56/100\n",
      "0s - loss: 46406.9202\n",
      "Epoch 57/100\n",
      "0s - loss: 46318.5125\n",
      "Epoch 58/100\n",
      "0s - loss: 46230.2455\n",
      "Epoch 59/100\n",
      "0s - loss: 46141.9372\n",
      "Epoch 60/100\n",
      "0s - loss: 46053.7948\n",
      "Epoch 61/100\n",
      "0s - loss: 45965.9754\n",
      "Epoch 62/100\n",
      "0s - loss: 45877.9530\n",
      "Epoch 63/100\n",
      "0s - loss: 45790.2631\n",
      "Epoch 64/100\n",
      "0s - loss: 45702.7906\n",
      "Epoch 65/100\n",
      "0s - loss: 45615.2154\n",
      "Epoch 66/100\n",
      "0s - loss: 45527.7847\n",
      "Epoch 67/100\n",
      "0s - loss: 45440.7618\n",
      "Epoch 68/100\n",
      "0s - loss: 45353.3528\n",
      "Epoch 69/100\n",
      "0s - loss: 45266.5237\n",
      "Epoch 70/100\n",
      "0s - loss: 45179.3789\n",
      "Epoch 71/100\n",
      "0s - loss: 45092.3661\n",
      "Epoch 72/100\n",
      "0s - loss: 45005.6864\n",
      "Epoch 73/100\n",
      "0s - loss: 44918.9875\n",
      "Epoch 74/100\n",
      "0s - loss: 44832.4747\n",
      "Epoch 75/100\n",
      "0s - loss: 44745.9556\n",
      "Epoch 76/100\n",
      "0s - loss: 44659.5056\n",
      "Epoch 77/100\n",
      "0s - loss: 44573.2573\n",
      "Epoch 78/100\n",
      "0s - loss: 44487.2873\n",
      "Epoch 79/100\n",
      "0s - loss: 44401.2191\n",
      "Epoch 80/100\n",
      "0s - loss: 44315.1797\n",
      "Epoch 81/100\n",
      "0s - loss: 44229.4241\n",
      "Epoch 82/100\n",
      "0s - loss: 44143.5926\n",
      "Epoch 83/100\n",
      "0s - loss: 44058.1379\n",
      "Epoch 84/100\n",
      "0s - loss: 43972.3703\n",
      "Epoch 85/100\n",
      "0s - loss: 43886.9157\n",
      "Epoch 86/100\n",
      "0s - loss: 43801.6142\n",
      "Epoch 87/100\n",
      "0s - loss: 43716.4596\n",
      "Epoch 88/100\n",
      "0s - loss: 43631.2396\n",
      "Epoch 89/100\n",
      "0s - loss: 43546.2579\n",
      "Epoch 90/100\n",
      "0s - loss: 43461.3781\n",
      "Epoch 91/100\n",
      "0s - loss: 43376.3900\n",
      "Epoch 92/100\n",
      "0s - loss: 43291.7960\n",
      "Epoch 93/100\n",
      "0s - loss: 43207.0183\n",
      "Epoch 94/100\n",
      "0s - loss: 43122.8776\n",
      "Epoch 95/100\n",
      "0s - loss: 43038.1988\n",
      "Epoch 96/100\n",
      "0s - loss: 42954.0864\n",
      "Epoch 97/100\n",
      "0s - loss: 42869.8272\n",
      "Epoch 98/100\n",
      "0s - loss: 42785.8033\n",
      "Epoch 99/100\n",
      "0s - loss: 42701.8131\n",
      "Epoch 100/100\n",
      "0s - loss: 42618.0653\n"
     ]
    }
   ],
   "source": [
    "def create_model():\n",
    "    model = Sequential()\n",
    "    model.add(LSTM(4, input_shape=(None, 1)))\n",
    "    model.add(Dense(1))\n",
    "    model.compile(loss='mean_squared_error',optimizer='adam')\n",
    "    model.fit(trainX,trainY,epochs=100, batch_size=1,verbose=2)\n",
    "    return model\n",
    "model = create_model()\n"
   ]
  },
  {
   "cell_type": "code",
   "execution_count": 33,
   "metadata": {
    "collapsed": true
   },
   "outputs": [],
   "source": [
    "trainPredict = model.predict(trainX)\n",
    "testPredict = model.predict(testX)"
   ]
  },
  {
   "cell_type": "markdown",
   "metadata": {},
   "source": [
    "### Invert prediction"
   ]
  },
  {
   "cell_type": "code",
   "execution_count": 34,
   "metadata": {},
   "outputs": [],
   "source": [
    "trainPredict = scaler.inverse_transform(trainPredict)\n",
    "trainY = scaler.inverse_transform([trainY])\n",
    "\n",
    "testPredict = scaler.inverse_transform(testPredict)\n",
    "testY = scaler.inverse_transform([testY])"
   ]
  },
  {
   "cell_type": "markdown",
   "metadata": {},
   "source": [
    "### Evaluation"
   ]
  },
  {
   "cell_type": "code",
   "execution_count": 35,
   "metadata": {},
   "outputs": [
    {
     "name": "stdout",
     "output_type": "stream",
     "text": [
      "Train score 106882.81 RMSE\n",
      "Test score 209684.30 RMSE\n"
     ]
    }
   ],
   "source": [
    "trainScore =math.sqrt(mean_squared_error(trainY[0],trainPredict[:,0]))\n",
    "print('Train score %.2f RMSE' %(trainScore))\n",
    "testScore =math.sqrt(mean_squared_error(testY[0],testPredict[:,0]))\n",
    "print('Test score %.2f RMSE' %(testScore))"
   ]
  },
  {
   "cell_type": "markdown",
   "metadata": {},
   "source": [
    "## Shifting data for plotting"
   ]
  },
  {
   "cell_type": "code",
   "execution_count": 39,
   "metadata": {
    "collapsed": true
   },
   "outputs": [],
   "source": [
    "# shift train data\n",
    "trainPredictPlot = np.empty_like(dataset)\n",
    "trainPredictPlot[:,:] = np.nan\n",
    "trainPredictPlot[look_back:len(trainPredict)+look_back,:]= trainPredict\n",
    "\n",
    "# shift test data\n",
    "testPredictPlot = np.empty_like(dataset)\n",
    "testPredictPlot[:,:] = np.nan\n",
    "testPredictPlot[len(trainPredict)+(look_back*2)+1:len(dataset)-1,:]= testPredict"
   ]
  },
  {
   "cell_type": "markdown",
   "metadata": {},
   "source": [
    "### Visualizing"
   ]
  },
  {
   "cell_type": "code",
   "execution_count": 40,
   "metadata": {},
   "outputs": [
    {
     "data": {
      "image/png": "[encoded data removed]",
      "text/plain": [
       "<matplotlib.figure.Figure at 0x7ff3fcb670b8>"
      ]
     },
     "metadata": {},
     "output_type": "display_data"
    }
   ],
   "source": [
    "plt.plot(scaler.inverse_transform(dataset))\n",
    "plt.plot(trainPredictPlot)\n",
    "plt.plot(testPredictPlot)\n",
    "plt.show()"
   ]
  },
  {
   "cell_type": "code",
   "execution_count": null,
   "metadata": {
    "collapsed": true
   },
   "outputs": [],
   "source": []
  }
 ],
 "metadata": {
  "kernelspec": {
   "display_name": "Python 3",
   "language": "python",
   "name": "python3"
  },
  "language_info": {
   "codemirror_mode": {
    "name": "ipython",
    "version": 3
   },
   "file_extension": ".py",
   "mimetype": "text/x-python",
   "name": "python",
   "nbconvert_exporter": "python",
   "pygments_lexer": "ipython3",
   "version": "3.5.4"
  }
 },
 "nbformat": 4,
 "nbformat_minor": 2
}
