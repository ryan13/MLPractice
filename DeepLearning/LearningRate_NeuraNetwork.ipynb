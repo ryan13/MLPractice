{
 "cells": [
  {
   "cell_type": "markdown",
   "metadata": {},
   "source": [
    "Adapting learning rate for schochatic gradient descent optimization task can increase the performance and reduce training \n",
    "time. Often large learning rate is often at the beginning of training time, it can be reduce at the end. Two popular ways\n",
    "are:    \n",
    "   >Decreasing the learning rate gradually based on epoch   \n",
    "   >Decreasing the learning rate using punctuated large drops at specific epoch       "
   ]
  },
  {
   "cell_type": "code",
   "execution_count": 1,
   "metadata": {},
   "outputs": [
    {
     "name": "stderr",
     "output_type": "stream",
     "text": [
      "Using TensorFlow backend.\n"
     ]
    }
   ],
   "source": [
    "import numpy as np\n",
    "import pandas as pd\n",
    "from keras.models import Sequential\n",
    "from keras.layers import Dense\n",
    "from keras .optimizers import SGD\n",
    "from sklearn.preprocessing import LabelEncoder"
   ]
  },
  {
   "cell_type": "code",
   "execution_count": 2,
   "metadata": {
    "collapsed": true
   },
   "outputs": [],
   "source": [
    "seed=7\n",
    "np.random.seed(seed)\n",
    "dataframe=pd.read_csv('/home/tri/Downloads/MLdatasets/ionosphere.data',header=None)\n",
    "dataset=dataframe.values"
   ]
  },
  {
   "cell_type": "code",
   "execution_count": 3,
   "metadata": {
    "collapsed": true
   },
   "outputs": [],
   "source": [
    "X=dataset[:,0:34].astype(float)\n",
    "y=dataset[:,34]\n",
    "# tranform categorical values\n",
    "encoder = LabelEncoder()\n",
    "encoder.fit(y)\n",
    "y=encoder.transform(y)"
   ]
  },
  {
   "cell_type": "code",
   "execution_count": 4,
   "metadata": {},
   "outputs": [
    {
     "name": "stdout",
     "output_type": "stream",
     "text": [
      "Train on 235 samples, validate on 116 samples\n",
      "Epoch 1/50\n",
      "2s - loss: 0.6812 - acc: 0.6468 - val_loss: 0.6353 - val_acc: 0.8793\n",
      "Epoch 2/50\n",
      "0s - loss: 0.6349 - acc: 0.7319 - val_loss: 0.5214 - val_acc: 0.8362\n",
      "Epoch 3/50\n",
      "0s - loss: 0.5534 - acc: 0.8213 - val_loss: 0.4690 - val_acc: 0.8793\n",
      "Epoch 4/50\n",
      "0s - loss: 0.4609 - acc: 0.8468 - val_loss: 0.4394 - val_acc: 0.9310\n",
      "Epoch 5/50\n",
      "0s - loss: 0.3788 - acc: 0.8596 - val_loss: 0.2744 - val_acc: 0.9483\n",
      "Epoch 6/50\n",
      "0s - loss: 0.3110 - acc: 0.8894 - val_loss: 0.3868 - val_acc: 0.8879\n",
      "Epoch 7/50\n",
      "0s - loss: 0.2725 - acc: 0.9106 - val_loss: 0.2212 - val_acc: 0.9483\n",
      "Epoch 8/50\n",
      "0s - loss: 0.2383 - acc: 0.9106 - val_loss: 0.1424 - val_acc: 0.9569\n",
      "Epoch 9/50\n",
      "0s - loss: 0.2420 - acc: 0.9106 - val_loss: 0.2207 - val_acc: 0.9397\n",
      "Epoch 10/50\n",
      "0s - loss: 0.2004 - acc: 0.9234 - val_loss: 0.2512 - val_acc: 0.9224\n",
      "Epoch 11/50\n",
      "0s - loss: 0.1903 - acc: 0.9277 - val_loss: 0.1829 - val_acc: 0.9569\n",
      "Epoch 12/50\n",
      "0s - loss: 0.1709 - acc: 0.9447 - val_loss: 0.1107 - val_acc: 0.9655\n",
      "Epoch 13/50\n",
      "0s - loss: 0.1790 - acc: 0.9277 - val_loss: 0.1018 - val_acc: 0.9741\n",
      "Epoch 14/50\n",
      "0s - loss: 0.1648 - acc: 0.9362 - val_loss: 0.1690 - val_acc: 0.9655\n",
      "Epoch 15/50\n",
      "0s - loss: 0.1411 - acc: 0.9532 - val_loss: 0.0971 - val_acc: 0.9828\n",
      "Epoch 16/50\n",
      "0s - loss: 0.1448 - acc: 0.9489 - val_loss: 0.1632 - val_acc: 0.9741\n",
      "Epoch 17/50\n",
      "0s - loss: 0.1432 - acc: 0.9574 - val_loss: 0.1500 - val_acc: 0.9741\n",
      "Epoch 18/50\n",
      "0s - loss: 0.1336 - acc: 0.9532 - val_loss: 0.1176 - val_acc: 0.9914\n",
      "Epoch 19/50\n",
      "0s - loss: 0.1268 - acc: 0.9532 - val_loss: 0.0908 - val_acc: 0.9914\n",
      "Epoch 20/50\n",
      "0s - loss: 0.1199 - acc: 0.9660 - val_loss: 0.1115 - val_acc: 0.9914\n",
      "Epoch 21/50\n",
      "0s - loss: 0.1144 - acc: 0.9574 - val_loss: 0.1023 - val_acc: 0.9914\n",
      "Epoch 22/50\n",
      "0s - loss: 0.1080 - acc: 0.9574 - val_loss: 0.1076 - val_acc: 0.9914\n",
      "Epoch 23/50\n",
      "0s - loss: 0.1089 - acc: 0.9617 - val_loss: 0.1033 - val_acc: 0.9914\n",
      "Epoch 24/50\n",
      "0s - loss: 0.1006 - acc: 0.9660 - val_loss: 0.0756 - val_acc: 0.9914\n",
      "Epoch 25/50\n",
      "0s - loss: 0.1105 - acc: 0.9617 - val_loss: 0.1060 - val_acc: 0.9914\n",
      "Epoch 26/50\n",
      "0s - loss: 0.0951 - acc: 0.9660 - val_loss: 0.0862 - val_acc: 0.9914\n",
      "Epoch 27/50\n",
      "0s - loss: 0.0937 - acc: 0.9702 - val_loss: 0.0873 - val_acc: 0.9914\n",
      "Epoch 28/50\n",
      "0s - loss: 0.0930 - acc: 0.9745 - val_loss: 0.0886 - val_acc: 0.9914\n",
      "Epoch 29/50\n",
      "0s - loss: 0.0846 - acc: 0.9787 - val_loss: 0.0885 - val_acc: 0.9914\n",
      "Epoch 30/50\n",
      "0s - loss: 0.0861 - acc: 0.9745 - val_loss: 0.0877 - val_acc: 0.9914\n",
      "Epoch 31/50\n",
      "0s - loss: 0.0841 - acc: 0.9745 - val_loss: 0.0833 - val_acc: 0.9914\n",
      "Epoch 32/50\n",
      "0s - loss: 0.0806 - acc: 0.9830 - val_loss: 0.0847 - val_acc: 0.9914\n",
      "Epoch 33/50\n",
      "0s - loss: 0.0761 - acc: 0.9830 - val_loss: 0.0860 - val_acc: 0.9914\n",
      "Epoch 34/50\n",
      "0s - loss: 0.0792 - acc: 0.9787 - val_loss: 0.0959 - val_acc: 0.9914\n",
      "Epoch 35/50\n",
      "0s - loss: 0.0744 - acc: 0.9830 - val_loss: 0.0740 - val_acc: 0.9828\n",
      "Epoch 36/50\n",
      "0s - loss: 0.0751 - acc: 0.9830 - val_loss: 0.0782 - val_acc: 0.9828\n",
      "Epoch 37/50\n",
      "0s - loss: 0.0699 - acc: 0.9830 - val_loss: 0.0856 - val_acc: 0.9914\n",
      "Epoch 38/50\n",
      "0s - loss: 0.0706 - acc: 0.9787 - val_loss: 0.0721 - val_acc: 0.9914\n",
      "Epoch 39/50\n",
      "0s - loss: 0.0733 - acc: 0.9787 - val_loss: 0.0863 - val_acc: 0.9914\n",
      "Epoch 40/50\n",
      "0s - loss: 0.0688 - acc: 0.9787 - val_loss: 0.0725 - val_acc: 0.9914\n",
      "Epoch 41/50\n",
      "0s - loss: 0.0649 - acc: 0.9787 - val_loss: 0.0822 - val_acc: 0.9914\n",
      "Epoch 42/50\n",
      "0s - loss: 0.0659 - acc: 0.9830 - val_loss: 0.0854 - val_acc: 0.9914\n",
      "Epoch 43/50\n",
      "0s - loss: 0.0659 - acc: 0.9830 - val_loss: 0.0743 - val_acc: 0.9914\n",
      "Epoch 44/50\n",
      "0s - loss: 0.0654 - acc: 0.9830 - val_loss: 0.0676 - val_acc: 0.9828\n",
      "Epoch 45/50\n",
      "0s - loss: 0.0613 - acc: 0.9830 - val_loss: 0.0915 - val_acc: 0.9914\n",
      "Epoch 46/50\n",
      "0s - loss: 0.0681 - acc: 0.9830 - val_loss: 0.0687 - val_acc: 0.9914\n",
      "Epoch 47/50\n",
      "0s - loss: 0.0659 - acc: 0.9872 - val_loss: 0.0601 - val_acc: 0.9828\n",
      "Epoch 48/50\n",
      "0s - loss: 0.0624 - acc: 0.9830 - val_loss: 0.0811 - val_acc: 0.9914\n",
      "Epoch 49/50\n",
      "0s - loss: 0.0582 - acc: 0.9830 - val_loss: 0.0759 - val_acc: 0.9914\n",
      "Epoch 50/50\n",
      "0s - loss: 0.0583 - acc: 0.9872 - val_loss: 0.0617 - val_acc: 0.9828\n"
     ]
    },
    {
     "data": {
      "text/plain": [
       "<keras.models.Sequential at 0x7f8d5f2c0b00>"
      ]
     },
     "execution_count": 4,
     "metadata": {},
     "output_type": "execute_result"
    }
   ],
   "source": [
    "def create_model():\n",
    "    model =Sequential()\n",
    "    model.add(Dense(34,input_dim=34, kernel_initializer='normal',activation='relu'))\n",
    "    model.add(Dense(1,kernel_initializer='normal',activation='sigmoid'))\n",
    "    # compile model\n",
    "    epochs=50\n",
    "    learning_rate=0.1\n",
    "    decay_rate =learning_rate/epochs\n",
    "    momentum =0.8\n",
    "    sgd =SGD(lr=learning_rate,momentum=momentum,decay=decay_rate,nesterov=False)\n",
    "    model.compile(loss='binary_crossentropy',optimizer=sgd,metrics=['accuracy'])\n",
    "    model.fit(X,y,validation_split=0.33,epochs=epochs, batch_size=28, verbose=2)\n",
    "    return model\n",
    "create_model()"
   ]
  },
  {
   "cell_type": "markdown",
   "metadata": {},
   "source": [
    "## Drop learning rate schedule   \n",
    "In this method, learning rate will be dropped at specific time during training. For example,learning rate can be dropped by half every fixed number of epochs. Keras provides LearningRateScheduler callback when fitting model."
   ]
  },
  {
   "cell_type": "code",
   "execution_count": 5,
   "metadata": {
    "collapsed": true
   },
   "outputs": [],
   "source": [
    "import math\n",
    "from keras.callbacks import LearningRateScheduler"
   ]
  },
  {
   "cell_type": "code",
   "execution_count": 13,
   "metadata": {
    "collapsed": true
   },
   "outputs": [],
   "source": [
    "# Learning rate schedule\n",
    "def step_decay(epoch):\n",
    "    initial_lrate = 0.1\n",
    "    drop = 0.5\n",
    "    epochs_drop =10.0\n",
    "    lrate = initial_lrate * math.pow(drop,math.floor((1+epoch)/epochs_drop))\n",
    "    return lrate"
   ]
  },
  {
   "cell_type": "code",
   "execution_count": 14,
   "metadata": {},
   "outputs": [
    {
     "name": "stdout",
     "output_type": "stream",
     "text": [
      "Train on 235 samples, validate on 116 samples\n",
      "Epoch 1/50\n",
      "0s - loss: 0.6801 - acc: 0.6426 - val_loss: 0.6155 - val_acc: 0.9138\n",
      "Epoch 2/50\n",
      "0s - loss: 0.6167 - acc: 0.7277 - val_loss: 0.4700 - val_acc: 0.9052\n",
      "Epoch 3/50\n",
      "0s - loss: 0.4906 - acc: 0.8255 - val_loss: 0.3475 - val_acc: 0.9483\n",
      "Epoch 4/50\n",
      "0s - loss: 0.3570 - acc: 0.8681 - val_loss: 0.3542 - val_acc: 0.8966\n",
      "Epoch 5/50\n",
      "0s - loss: 0.2710 - acc: 0.8936 - val_loss: 0.1468 - val_acc: 0.9655\n",
      "Epoch 6/50\n",
      "0s - loss: 0.2139 - acc: 0.9234 - val_loss: 0.2216 - val_acc: 0.9397\n",
      "Epoch 7/50\n",
      "0s - loss: 0.1775 - acc: 0.9362 - val_loss: 0.1500 - val_acc: 0.9741\n",
      "Epoch 8/50\n",
      "0s - loss: 0.1564 - acc: 0.9404 - val_loss: 0.0860 - val_acc: 0.9741\n",
      "Epoch 9/50\n",
      "0s - loss: 0.1700 - acc: 0.9319 - val_loss: 0.1590 - val_acc: 0.9569\n",
      "Epoch 10/50\n",
      "0s - loss: 0.1239 - acc: 0.9617 - val_loss: 0.0918 - val_acc: 0.9914\n",
      "Epoch 11/50\n",
      "0s - loss: 0.1112 - acc: 0.9660 - val_loss: 0.1070 - val_acc: 0.9914\n",
      "Epoch 12/50\n",
      "0s - loss: 0.1036 - acc: 0.9617 - val_loss: 0.0771 - val_acc: 0.9914\n",
      "Epoch 13/50\n",
      "0s - loss: 0.1108 - acc: 0.9574 - val_loss: 0.1025 - val_acc: 0.9914\n",
      "Epoch 14/50\n",
      "0s - loss: 0.0973 - acc: 0.9745 - val_loss: 0.0782 - val_acc: 0.9914\n",
      "Epoch 15/50\n",
      "0s - loss: 0.0947 - acc: 0.9617 - val_loss: 0.0773 - val_acc: 0.9914\n",
      "Epoch 16/50\n",
      "0s - loss: 0.0947 - acc: 0.9660 - val_loss: 0.0832 - val_acc: 0.9914\n",
      "Epoch 17/50\n",
      "0s - loss: 0.0859 - acc: 0.9702 - val_loss: 0.0874 - val_acc: 0.9914\n",
      "Epoch 18/50\n",
      "0s - loss: 0.0806 - acc: 0.9787 - val_loss: 0.0764 - val_acc: 0.9914\n",
      "Epoch 19/50\n",
      "0s - loss: 0.0773 - acc: 0.9745 - val_loss: 0.0806 - val_acc: 0.9914\n",
      "Epoch 20/50\n",
      "0s - loss: 0.0751 - acc: 0.9830 - val_loss: 0.0635 - val_acc: 0.9914\n",
      "Epoch 21/50\n",
      "0s - loss: 0.0748 - acc: 0.9787 - val_loss: 0.0813 - val_acc: 0.9914\n",
      "Epoch 22/50\n",
      "0s - loss: 0.0706 - acc: 0.9830 - val_loss: 0.0742 - val_acc: 0.9914\n",
      "Epoch 23/50\n",
      "0s - loss: 0.0703 - acc: 0.9830 - val_loss: 0.0682 - val_acc: 0.9914\n",
      "Epoch 24/50\n",
      "0s - loss: 0.0687 - acc: 0.9830 - val_loss: 0.0805 - val_acc: 0.9914\n",
      "Epoch 25/50\n",
      "0s - loss: 0.0663 - acc: 0.9830 - val_loss: 0.0671 - val_acc: 0.9914\n",
      "Epoch 26/50\n",
      "0s - loss: 0.0658 - acc: 0.9830 - val_loss: 0.0746 - val_acc: 0.9914\n",
      "Epoch 27/50\n",
      "0s - loss: 0.0633 - acc: 0.9830 - val_loss: 0.0714 - val_acc: 0.9914\n",
      "Epoch 28/50\n",
      "0s - loss: 0.0631 - acc: 0.9830 - val_loss: 0.0710 - val_acc: 0.9914\n",
      "Epoch 29/50\n",
      "0s - loss: 0.0614 - acc: 0.9830 - val_loss: 0.0726 - val_acc: 0.9914\n",
      "Epoch 30/50\n",
      "0s - loss: 0.0607 - acc: 0.9830 - val_loss: 0.0671 - val_acc: 0.9914\n",
      "Epoch 31/50\n",
      "0s - loss: 0.0602 - acc: 0.9830 - val_loss: 0.0723 - val_acc: 0.9914\n",
      "Epoch 32/50\n",
      "0s - loss: 0.0592 - acc: 0.9830 - val_loss: 0.0716 - val_acc: 0.9914\n",
      "Epoch 33/50\n",
      "0s - loss: 0.0585 - acc: 0.9830 - val_loss: 0.0683 - val_acc: 0.9914\n",
      "Epoch 34/50\n",
      "0s - loss: 0.0585 - acc: 0.9830 - val_loss: 0.0693 - val_acc: 0.9914\n",
      "Epoch 35/50\n",
      "0s - loss: 0.0583 - acc: 0.9830 - val_loss: 0.0749 - val_acc: 0.9914\n",
      "Epoch 36/50\n",
      "0s - loss: 0.0570 - acc: 0.9872 - val_loss: 0.0703 - val_acc: 0.9914\n",
      "Epoch 37/50\n",
      "0s - loss: 0.0567 - acc: 0.9830 - val_loss: 0.0668 - val_acc: 0.9914\n",
      "Epoch 38/50\n",
      "0s - loss: 0.0569 - acc: 0.9830 - val_loss: 0.0692 - val_acc: 0.9914\n",
      "Epoch 39/50\n",
      "0s - loss: 0.0563 - acc: 0.9830 - val_loss: 0.0642 - val_acc: 0.9914\n",
      "Epoch 40/50\n",
      "0s - loss: 0.0555 - acc: 0.9830 - val_loss: 0.0664 - val_acc: 0.9914\n",
      "Epoch 41/50\n",
      "0s - loss: 0.0548 - acc: 0.9872 - val_loss: 0.0709 - val_acc: 0.9914\n",
      "Epoch 42/50\n",
      "0s - loss: 0.0550 - acc: 0.9872 - val_loss: 0.0689 - val_acc: 0.9914\n",
      "Epoch 43/50\n",
      "0s - loss: 0.0548 - acc: 0.9872 - val_loss: 0.0675 - val_acc: 0.9914\n",
      "Epoch 44/50\n",
      "0s - loss: 0.0546 - acc: 0.9872 - val_loss: 0.0676 - val_acc: 0.9914\n",
      "Epoch 45/50\n",
      "0s - loss: 0.0545 - acc: 0.9830 - val_loss: 0.0656 - val_acc: 0.9914\n",
      "Epoch 46/50\n",
      "0s - loss: 0.0544 - acc: 0.9830 - val_loss: 0.0653 - val_acc: 0.9914\n",
      "Epoch 47/50\n",
      "0s - loss: 0.0549 - acc: 0.9872 - val_loss: 0.0704 - val_acc: 0.9914\n",
      "Epoch 48/50\n",
      "0s - loss: 0.0537 - acc: 0.9872 - val_loss: 0.0693 - val_acc: 0.9914\n",
      "Epoch 49/50\n",
      "0s - loss: 0.0536 - acc: 0.9872 - val_loss: 0.0660 - val_acc: 0.9914\n",
      "Epoch 50/50\n",
      "0s - loss: 0.0534 - acc: 0.9872 - val_loss: 0.0692 - val_acc: 0.9914\n"
     ]
    },
    {
     "data": {
      "text/plain": [
       "<keras.models.Sequential at 0x7f8d5db88e48>"
      ]
     },
     "execution_count": 14,
     "metadata": {},
     "output_type": "execute_result"
    }
   ],
   "source": [
    "seed=7\n",
    "np.random.seed(seed)\n",
    "def create_model():\n",
    "    model=Sequential()\n",
    "    model.add(Dense(34,input_dim=34,kernel_initializer='normal',activation='relu'))\n",
    "    model.add(Dense(1,kernel_initializer='normal',activation='sigmoid'))\n",
    "    sgd =SGD(lr=0.0, momentum=0.9,decay=0.0,nesterov=False)\n",
    "    model.compile(loss='binary_crossentropy',optimizer=sgd, metrics=['accuracy'])\n",
    "    # learning schedule callback\n",
    "    lrate = LearningRateScheduler(step_decay)\n",
    "    callbacks_list = [lrate]\n",
    "    model.fit(X,y,validation_split=0.33,epochs=50,batch_size=28,callbacks=callbacks_list,verbose=2)\n",
    "    return model\n",
    "create_model()"
   ]
  },
  {
   "cell_type": "markdown",
   "metadata": {},
   "source": [
    "## Guideline: Using learning rate schedule\n",
    "* Increase the initial learning rate: Intial high learning rate can result in  a lot of weight change which in turn is benefit from fine tuning later\n",
    "* Larg momentum: this will can help the optimization algorithm to continue to make updates  in the right direction when your learning rate shrinks to small values.\n",
    "* Experiment with different schedules: Try schedules that change exponentially and even schedules that respond to the accuracyof your model."
   ]
  },
  {
   "cell_type": "code",
   "execution_count": null,
   "metadata": {
    "collapsed": true
   },
   "outputs": [],
   "source": []
  }
 ],
 "metadata": {
  "kernelspec": {
   "display_name": "Python 3",
   "language": "python",
   "name": "python3"
  },
  "language_info": {
   "codemirror_mode": {
    "name": "ipython",
    "version": 3
   },
   "file_extension": ".py",
   "mimetype": "text/x-python",
   "name": "python",
   "nbconvert_exporter": "python",
   "pygments_lexer": "ipython3",
   "version": "3.5.4"
  }
 },
 "nbformat": 4,
 "nbformat_minor": 2
}
