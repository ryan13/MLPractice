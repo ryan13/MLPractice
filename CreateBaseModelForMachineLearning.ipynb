{
 "cells": [
  {
   "cell_type": "markdown",
   "metadata": {},
   "source": [
    "Whenever a new ML algorithm is created, creators often select one or more models as based model for comparision purpose. For that reason, this tutorial is ."
   ]
  },
  {
   "cell_type": "code",
   "execution_count": 18,
   "metadata": {
    "collapsed": true
   },
   "outputs": [],
   "source": [
    "from sklearn import dummy\n",
    "from sklearn.metrics import accuracy_score\n",
    "from sklearn.datasets import make_regression, make_classification"
   ]
  },
  {
   "cell_type": "code",
   "execution_count": 2,
   "metadata": {},
   "outputs": [
    {
     "data": {
      "text/plain": [
       "DummyRegressor(constant=None, quantile=None, strategy='mean')"
      ]
     },
     "execution_count": 2,
     "metadata": {},
     "output_type": "execute_result"
    }
   ],
   "source": [
    "X,y = make_regression()\n",
    "dumdum = dummy.DummyRegressor()\n",
    "dumdum.fit(X,y)"
   ]
  },
  {
   "cell_type": "markdown",
   "metadata": {},
   "source": [
    "## Strategies:\n",
    "There are several approaches to predict with this dummy model:   \n",
    "    1. Mean    \n",
    "    2. Median   \n",
    "    3. Constant   "
   ]
  },
  {
   "cell_type": "code",
   "execution_count": 7,
   "metadata": {},
   "outputs": [
    {
     "name": "stdout",
     "output_type": "stream",
     "text": [
      "strategy mean 8.8653720943,8.8653720943,8.8653720943,8.8653720943,8.8653720943\n",
      "strategy median -18.4574371803,-18.4574371803,-18.4574371803,-18.4574371803,-18.4574371803\n",
      "strategy constant 10.0,10.0,10.0,10.0,10.0\n"
     ]
    }
   ],
   "source": [
    "predictors =[('mean', None),('median',None),('constant',10)]\n",
    "for strategy, constant in predictors:\n",
    "    dumdum = dummy.DummyRegressor(strategy=strategy, constant=constant)\n",
    "    dumdum.fit(X,y)\n",
    "    print(\"strategy {}\".format(strategy),\",\".join(map(str,dumdum.predict(X)[:5])) )"
   ]
  },
  {
   "cell_type": "markdown",
   "metadata": {},
   "source": [
    "## For classification, we can"
   ]
  },
  {
   "cell_type": "code",
   "execution_count": 15,
   "metadata": {},
   "outputs": [
    {
     "name": "stdout",
     "output_type": "stream",
     "text": [
      "strategy: constant 0,0,0,0,0\n",
      "strategy: stratified 1,1,0,0,1\n",
      "strategy: uniform 1,0,1,1,0\n",
      "strategy: most_frequent 0,0,0,0,0\n"
     ]
    }
   ],
   "source": [
    "predictors = [(\"constant\",0),(\"stratified\",None),(\"uniform\",None),(\"most_frequent\",None)]\n",
    "X,y = make_classification()\n",
    "for strategy, constant in predictors:\n",
    "    dumdum = dummy.DummyClassifier(strategy=strategy, constant=constant)\n",
    "    dumdum.fit(X,y)\n",
    "    print(\"strategy: {}\".format(strategy),\",\".join(map(str, dumdum.predict(X)[:5])))"
   ]
  },
  {
   "cell_type": "markdown",
   "metadata": {},
   "source": [
    "## Apply\n",
    "Let say we want to test a fraud detection model such that only 5% of dataset is fraudulent. We may think to fit model by never do anything."
   ]
  },
  {
   "cell_type": "code",
   "execution_count": 17,
   "metadata": {},
   "outputs": [
    {
     "data": {
      "text/plain": [
       "DummyClassifier(constant=None, random_state=None, strategy='most_frequent')"
      ]
     },
     "execution_count": 17,
     "metadata": {},
     "output_type": "execute_result"
    }
   ],
   "source": [
    "X,y = make_classification(20000, weights=[0.95,.05])\n",
    "dumdum = dummy.DummyClassifier(strategy='most_frequent')\n",
    "dumdum.fit(X,y)"
   ]
  },
  {
   "cell_type": "code",
   "execution_count": 19,
   "metadata": {},
   "outputs": [
    {
     "name": "stdout",
     "output_type": "stream",
     "text": [
      "0.9455\n"
     ]
    }
   ],
   "source": [
    "print(accuracy_score(y, dumdum.predict(X)))"
   ]
  },
  {
   "cell_type": "markdown",
   "metadata": {},
   "source": [
    "## Well, our baseline model achieve 94.5% \n",
    "so any new model generates less accurate than that, it is worthless"
   ]
  },
  {
   "cell_type": "code",
   "execution_count": null,
   "metadata": {
    "collapsed": true
   },
   "outputs": [],
   "source": []
  }
 ],
 "metadata": {
  "kernelspec": {
   "display_name": "Python 3",
   "language": "python",
   "name": "python3"
  },
  "language_info": {
   "codemirror_mode": {
    "name": "ipython",
    "version": 3
   },
   "file_extension": ".py",
   "mimetype": "text/x-python",
   "name": "python",
   "nbconvert_exporter": "python",
   "pygments_lexer": "ipython3",
   "version": "3.6.2"
  }
 },
 "nbformat": 4,
 "nbformat_minor": 2
}
