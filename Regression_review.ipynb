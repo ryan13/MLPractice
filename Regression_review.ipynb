{
 "cells": [
  {
   "cell_type": "markdown",
   "metadata": {},
   "source": [
    "## Tutorial 1 : Regression "
   ]
  },
  {
   "cell_type": "code",
   "execution_count": 8,
   "metadata": {},
   "outputs": [],
   "source": [
    "import numpy as np\n",
    "import pandas as pd\n",
    "import matplotlib.pyplot as plt\n",
    "from sklearn.datasets import load_boston\n",
    "from sklearn.linear_model import LinearRegression\n",
    "%matplotlib inline"
   ]
  },
  {
   "cell_type": "code",
   "execution_count": 5,
   "metadata": {},
   "outputs": [
    {
     "data": {
      "text/plain": [
       "LinearRegression(copy_X=True, fit_intercept=True, n_jobs=1, normalize=False)"
      ]
     },
     "execution_count": 5,
     "metadata": {},
     "output_type": "execute_result"
    }
   ],
   "source": [
    "lr =LinearRegression()\n",
    "boston= load_boston()\n",
    "lr.fit(boston.data, boston.target)\n",
    "LinearRegression(copy_X=True, fit_intercept=True, n_jobs =1, normalize=False)"
   ]
  },
  {
   "cell_type": "code",
   "execution_count": 9,
   "metadata": {},
   "outputs": [
    {
     "data": {
      "text/plain": [
       "<matplotlib.axes._subplots.AxesSubplot at 0x1e0d18d52e8>"
      ]
     },
     "execution_count": 9,
     "metadata": {},
     "output_type": "execute_result"
    },
    {
     "data": {
      "image/png": "[encoded data removed]",
      "text/plain": [
       "<matplotlib.figure.Figure at 0x1e0d18c6940>"
      ]
     },
     "metadata": {},
     "output_type": "display_data"
    }
   ],
   "source": [
    "pred = lr.predict(boston.data)\n",
    "pd.Series(boston.target - pred).hist(bins=50)"
   ]
  },
  {
   "cell_type": "code",
   "execution_count": 10,
   "metadata": {},
   "outputs": [
    {
     "data": {
      "text/plain": [
       "array([ -1.07170557e-01,   4.63952195e-02,   2.08602395e-02,\n",
       "         2.68856140e+00,  -1.77957587e+01,   3.80475246e+00,\n",
       "         7.51061703e-04,  -1.47575880e+00,   3.05655038e-01,\n",
       "        -1.23293463e-02,  -9.53463555e-01,   9.39251272e-03,\n",
       "        -5.25466633e-01])"
      ]
     },
     "execution_count": 10,
     "metadata": {},
     "output_type": "execute_result"
    }
   ],
   "source": [
    "# Goefficient\n",
    "lr.coef_"
   ]
  },
  {
   "cell_type": "markdown",
   "metadata": {},
   "source": [
    "The negative coefficient can be explained by the relationship between the per capita crime rate be town with the price of house in Boston. This coefficient is indicated by the first coefficient in the regression."
   ]
  },
  {
   "cell_type": "code",
   "execution_count": 11,
   "metadata": {},
   "outputs": [
    {
     "data": {
      "text/plain": [
       "36.491103280363134"
      ]
     },
     "execution_count": 11,
     "metadata": {},
     "output_type": "execute_result"
    }
   ],
   "source": [
    "# Intercept\n",
    "lr.intercept_"
   ]
  },
  {
   "cell_type": "markdown",
   "metadata": {},
   "source": [
    "##  To display of all coefficients'name, type dir(lr)"
   ]
  },
  {
   "cell_type": "code",
   "execution_count": 12,
   "metadata": {},
   "outputs": [
    {
     "data": {
      "text/plain": [
       "['__abstractmethods__',\n",
       " '__class__',\n",
       " '__delattr__',\n",
       " '__dict__',\n",
       " '__dir__',\n",
       " '__doc__',\n",
       " '__eq__',\n",
       " '__format__',\n",
       " '__ge__',\n",
       " '__getattribute__',\n",
       " '__getstate__',\n",
       " '__gt__',\n",
       " '__hash__',\n",
       " '__init__',\n",
       " '__init_subclass__',\n",
       " '__le__',\n",
       " '__lt__',\n",
       " '__module__',\n",
       " '__ne__',\n",
       " '__new__',\n",
       " '__reduce__',\n",
       " '__reduce_ex__',\n",
       " '__repr__',\n",
       " '__setattr__',\n",
       " '__setstate__',\n",
       " '__sizeof__',\n",
       " '__str__',\n",
       " '__subclasshook__',\n",
       " '__weakref__',\n",
       " '_abc_cache',\n",
       " '_abc_negative_cache',\n",
       " '_abc_negative_cache_version',\n",
       " '_abc_registry',\n",
       " '_decision_function',\n",
       " '_estimator_type',\n",
       " '_get_param_names',\n",
       " '_preprocess_data',\n",
       " '_residues',\n",
       " '_set_intercept',\n",
       " 'coef_',\n",
       " 'copy_X',\n",
       " 'fit',\n",
       " 'fit_intercept',\n",
       " 'get_params',\n",
       " 'intercept_',\n",
       " 'n_jobs',\n",
       " 'normalize',\n",
       " 'predict',\n",
       " 'rank_',\n",
       " 'score',\n",
       " 'set_params',\n",
       " 'singular_']"
      ]
     },
     "execution_count": 12,
     "metadata": {},
     "output_type": "execute_result"
    }
   ],
   "source": [
    "dir(lr)"
   ]
  },
  {
   "cell_type": "markdown",
   "metadata": {},
   "source": [
    "## Fitting model with cross validation prediction"
   ]
  },
  {
   "cell_type": "code",
   "execution_count": 13,
   "metadata": {
    "collapsed": true
   },
   "outputs": [],
   "source": [
    "from sklearn.model_selection import cross_val_predict"
   ]
  },
  {
   "cell_type": "code",
   "execution_count": 15,
   "metadata": {},
   "outputs": [],
   "source": [
    "preds_cv = cross_val_predict(lr, boston.data,boston.target, cv=10)"
   ]
  },
  {
   "cell_type": "markdown",
   "metadata": {},
   "source": [
    "## Plot residuals of predictions vs ground true"
   ]
  },
  {
   "cell_type": "code",
   "execution_count": 16,
   "metadata": {},
   "outputs": [
    {
     "data": {
      "text/plain": [
       "<matplotlib.axes._subplots.AxesSubplot at 0x1e0d19b0c50>"
      ]
     },
     "execution_count": 16,
     "metadata": {},
     "output_type": "execute_result"
    },
    {
     "data": {
      "image/png": "[encoded data removed]",
      "text/plain": [
       "<matplotlib.figure.Figure at 0x1e0d1969f98>"
      ]
     },
     "metadata": {},
     "output_type": "display_data"
    }
   ],
   "source": [
    "pd.Series(boston.target - preds_cv).hist(bins=50)"
   ]
  },
  {
   "cell_type": "markdown",
   "metadata": {},
   "source": [
    "## Evaluating prediction"
   ]
  },
  {
   "cell_type": "code",
   "execution_count": 17,
   "metadata": {},
   "outputs": [
    {
     "data": {
      "image/png": "[encoded data removed]",
      "text/plain": [
       "<matplotlib.figure.Figure at 0x1e0d1c37f60>"
      ]
     },
     "metadata": {},
     "output_type": "display_data"
    }
   ],
   "source": [
    "from scipy.stats import probplot\n",
    "f = plt.figure(figsize=(7,5))\n",
    "ax = f.add_subplot(111)\n",
    "tuple_out = probplot(boston.target - preds_cv,plot=ax)"
   ]
  },
  {
   "cell_type": "code",
   "execution_count": 18,
   "metadata": {},
   "outputs": [
    {
     "data": {
      "text/plain": [
       "(5.5560707355667613, 0.033491319586210058, 0.93986352421028652)"
      ]
     },
     "execution_count": 18,
     "metadata": {},
     "output_type": "execute_result"
    }
   ],
   "source": [
    "# Get access coefficient for regression line: slope, intercept, r (square root of the coefficient of determination)\n",
    "tuple_out[1]"
   ]
  },
  {
   "cell_type": "code",
   "execution_count": 19,
   "metadata": {},
   "outputs": [
    {
     "data": {
      "text/plain": [
       "21.897779217687496"
      ]
     },
     "execution_count": 19,
     "metadata": {},
     "output_type": "execute_result"
    }
   ],
   "source": [
    "def MSE(target,predictions):\n",
    "    squared_deviation = np.power(target - predictions,2)\n",
    "    return np.mean(squared_deviation)\n",
    "MSE(boston.target,pred)"
   ]
  },
  {
   "cell_type": "code",
   "execution_count": 20,
   "metadata": {},
   "outputs": [
    {
     "data": {
      "text/plain": [
       "3.272944637996908"
      ]
     },
     "execution_count": 20,
     "metadata": {},
     "output_type": "execute_result"
    }
   ],
   "source": [
    "def MAD(target, predictions):\n",
    "    absolute_deviation =np.abs(target - predictions)\n",
    "    return np.mean(absolute_deviation)\n",
    "MAD(boston.target, pred)"
   ]
  },
  {
   "cell_type": "markdown",
   "metadata": {},
   "source": [
    "## Using sklearn.metric "
   ]
  },
  {
   "cell_type": "code",
   "execution_count": 24,
   "metadata": {},
   "outputs": [
    {
     "name": "stdout",
     "output_type": "stream",
     "text": [
      "MSE =  21.8977792177\n",
      "MAD =  3.272944638\n"
     ]
    }
   ],
   "source": [
    "from sklearn.metrics import mean_absolute_error , mean_squared_error\n",
    "\n",
    "print('MSE = ',mean_squared_error(boston.target, pred))\n",
    "print('MAD = ',mean_absolute_error(boston.target, pred))"
   ]
  },
  {
   "cell_type": "markdown",
   "metadata": {},
   "source": [
    "## Bootstrap"
   ]
  },
  {
   "cell_type": "code",
   "execution_count": 25,
   "metadata": {
    "collapsed": true
   },
   "outputs": [],
   "source": [
    "n_bootstraps =1000\n",
    "len_boston =len(boston.target)\n",
    "subsample_size = np.int(0.5* len_boston)\n",
    "\n",
    "subsample = lambda: np.random.choice(np.arange(0,len_boston),size= subsample_size)"
   ]
  },
  {
   "cell_type": "code",
   "execution_count": 26,
   "metadata": {
    "collapsed": true
   },
   "outputs": [],
   "source": [
    "coefs = np.ones(n_bootstraps)\n",
    "for i in range(n_bootstraps):\n",
    "    subsample_idx =subsample()\n",
    "    subsample_X   = boston.data[subsample_idx]\n",
    "    subsample_y = boston.target[subsample_idx]\n",
    "    lr.fit(subsample_X, subsample_y)\n",
    "    coefs[i] = lr.coef_[0]"
   ]
  },
  {
   "cell_type": "code",
   "execution_count": 32,
   "metadata": {},
   "outputs": [
    {
     "data": {
      "text/plain": [
       "(array([   1.,    0.,    0.,    0.,    0.,    0.,    0.,    0.,    0.,\n",
       "           0.,    0.,    0.,    0.,    0.,    0.,    1.,    2.,    0.,\n",
       "           2.,    1.,    6.,   14.,   33.,   53.,   78.,  120.,  125.,\n",
       "         110.,  111.,   86.,   68.,   38.,   34.,   26.,   23.,   19.,\n",
       "          12.,   10.,    6.,    7.,    5.,    2.,    2.,    1.,    1.,\n",
       "           0.,    1.,    1.,    0.,    1.]),\n",
       " array([-0.50041313, -0.4861583 , -0.47190346, -0.45764863, -0.44339379,\n",
       "        -0.42913896, -0.41488413, -0.40062929, -0.38637446, -0.37211962,\n",
       "        -0.35786479, -0.34360996, -0.32935512, -0.31510029, -0.30084545,\n",
       "        -0.28659062, -0.27233579, -0.25808095, -0.24382612, -0.22957128,\n",
       "        -0.21531645, -0.20106162, -0.18680678, -0.17255195, -0.15829712,\n",
       "        -0.14404228, -0.12978745, -0.11553261, -0.10127778, -0.08702295,\n",
       "        -0.07276811, -0.05851328, -0.04425844, -0.03000361, -0.01574878,\n",
       "        -0.00149394,  0.01276089,  0.02701573,  0.04127056,  0.05552539,\n",
       "         0.06978023,  0.08403506,  0.0982899 ,  0.11254473,  0.12679956,\n",
       "         0.1410544 ,  0.15530923,  0.16956407,  0.1838189 ,  0.19807373,\n",
       "         0.21232857]),\n",
       " <a list of 50 Patch objects>)"
      ]
     },
     "execution_count": 32,
     "metadata": {},
     "output_type": "execute_result"
    },
    {
     "data": {
      "image/png": "[encoded data removed]",
      "text/plain": [
       "<matplotlib.figure.Figure at 0x1e0d2550748>"
      ]
     },
     "metadata": {},
     "output_type": "display_data"
    }
   ],
   "source": [
    "f =plt.figure(figsize=(7,5))\n",
    "ax =f.add_subplot(111)\n",
    "ax.hist(coefs, bins=50)"
   ]
  },
  {
   "cell_type": "markdown",
   "metadata": {},
   "source": [
    "## Bootstrap confidence interval\n",
    "Bootstrapping can potentially lead to better estimates for coefficients since bootstrapped mean with convergence to the true mean is faster than finding the coefficient using regular estimation"
   ]
  },
  {
   "cell_type": "code",
   "execution_count": 33,
   "metadata": {},
   "outputs": [
    {
     "data": {
      "text/plain": [
       "array([-0.18748927,  0.04742417])"
      ]
     },
     "execution_count": 33,
     "metadata": {},
     "output_type": "execute_result"
    }
   ],
   "source": [
    "np.percentile(coefs,[2.5,97.5])"
   ]
  },
  {
   "cell_type": "markdown",
   "metadata": {},
   "source": [
    "## Ridge Regression"
   ]
  },
  {
   "cell_type": "code",
   "execution_count": 45,
   "metadata": {},
   "outputs": [],
   "source": [
    "from sklearn.linear_model import Ridge\n",
    "r= Ridge()\n",
    "n_bootstraps =1000\n",
    "len_data = len(boston.target)\n",
    "subsample_size =np.int(0.5* len_data)\n",
    "subsample = lambda: np.random.choice(np.arange(0, len_data),size=subsample_size)\n"
   ]
  },
  {
   "cell_type": "code",
   "execution_count": 55,
   "metadata": {},
   "outputs": [],
   "source": [
    "coefs_r = np.ones((n_bootstraps,3))\n",
    "for i in range(n_bootstraps):\n",
    "    subsample_idx =subsample()\n",
    "    subsample_X = boston.data[subsample_idx]\n",
    "    subsample_y = boston.target[subsample_idx]\n",
    "    r.fit(subsample_X,subsample_y)\n",
    "    coefs_r[i][0]= r.coef_[0]\n",
    "    coefs_r[i][1]= r.coef_[1]\n",
    "    coefs_r[i][2]=r.coef_[2]"
   ]
  },
  {
   "cell_type": "code",
   "execution_count": 57,
   "metadata": {},
   "outputs": [
    {
     "data": {
      "text/plain": [
       "(array([   2.,    7.,   46.,  140.,  292.,  275.,  171.,   56.,    9.,    2.]),\n",
       " array([-0.30390289, -0.24797343, -0.19204397, -0.13611451, -0.08018505,\n",
       "        -0.02425559,  0.03167387,  0.08760333,  0.14353279,  0.19946226,\n",
       "         0.25539172]),\n",
       " <a list of 10 Patch objects>)"
      ]
     },
     "execution_count": 57,
     "metadata": {},
     "output_type": "execute_result"
    },
    {
     "data": {
      "image/png": "[encoded data removed]",
      "text/plain": [
       "<matplotlib.figure.Figure at 0x1e0d25f37f0>"
      ]
     },
     "metadata": {},
     "output_type": "display_data"
    }
   ],
   "source": [
    "plt.figure(figsize=(10,5))\n",
    "ax1 = plt.subplot(311,title='Coef 0')\n",
    "ax1.hist(coefs_r[:,0])\n",
    "ax2 = plt.subplot(312,sharex =ax1,title='Coef 1')\n",
    "ax2.hist(coefs_r[:,1])\n",
    "ax3 = plt.subplot(313,sharex =ax1,title='Coef 3')\n",
    "ax3.hist(coefs_r[:,2])"
   ]
  },
  {
   "cell_type": "markdown",
   "metadata": {},
   "source": [
    "## Check Ridge variance"
   ]
  },
  {
   "cell_type": "code",
   "execution_count": 58,
   "metadata": {},
   "outputs": [
    {
     "data": {
      "text/plain": [
       "0.0035990766906830443"
      ]
     },
     "execution_count": 58,
     "metadata": {},
     "output_type": "execute_result"
    }
   ],
   "source": [
    "print('Variance of Linear regression =', np.var(coefs,axis=0))"
   ]
  },
  {
   "cell_type": "code",
   "execution_count": 60,
   "metadata": {},
   "outputs": [
    {
     "name": "stdout",
     "output_type": "stream",
     "text": [
      "Variane of Ridge regression = [ 0.00335495  0.00038357  0.00526386]\n"
     ]
    }
   ],
   "source": [
    "print('Variane of Ridge regression =',np.var(coefs_r,axis=0))"
   ]
  },
  {
   "cell_type": "markdown",
   "metadata": {},
   "source": [
    "## Optimazing Ridge regression\n",
    "sklearn provides RidgeCV  to perform a cross-validation similar to leave-one-out-cross-validation __(LOOCV)__"
   ]
  },
  {
   "cell_type": "code",
   "execution_count": 65,
   "metadata": {},
   "outputs": [
    {
     "data": {
      "text/plain": [
       "RidgeCV(alphas=[0.08, 0.09, 0.1, 0.15, 0.2, 0.3, 0.4], cv=None,\n",
       "    fit_intercept=True, gcv_mode=None, normalize=False, scoring=None,\n",
       "    store_cv_values=False)"
      ]
     },
     "execution_count": 65,
     "metadata": {},
     "output_type": "execute_result"
    }
   ],
   "source": [
    "from sklearn.linear_model import RidgeCV\n",
    "r_cv = RidgeCV(alphas=[.08,.09, .1,.15,.2,.3,.4])\n",
    "r_cv.fit(boston.data,boston.target)"
   ]
  },
  {
   "cell_type": "code",
   "execution_count": 66,
   "metadata": {},
   "outputs": [
    {
     "data": {
      "text/plain": [
       "0.080000000000000002"
      ]
     },
     "execution_count": 66,
     "metadata": {},
     "output_type": "execute_result"
    }
   ],
   "source": [
    "r_cv.alpha_"
   ]
  },
  {
   "cell_type": "markdown",
   "metadata": {},
   "source": [
    "## To store cross validation value"
   ]
  },
  {
   "cell_type": "code",
   "execution_count": 71,
   "metadata": {},
   "outputs": [
    {
     "data": {
      "text/plain": [
       "RidgeCV(alphas=array([ 0.01   ,  0.0302 ,  0.05041,  0.07061,  0.09082,  0.11102,\n",
       "        0.13122,  0.15143,  0.17163,  0.19184,  0.21204,  0.23224,\n",
       "        0.25245,  0.27265,  0.29286,  0.31306,  0.33327,  0.35347,\n",
       "        0.37367,  0.39388,  0.41408,  0.43429,  0.45449,  0.47469,\n",
       "        0.4949 ,  0.5151 ...3837,\n",
       "        0.85857,  0.87878,  0.89898,  0.91918,  0.93939,  0.95959,\n",
       "        0.9798 ,  1.     ]),\n",
       "    cv=None, fit_intercept=True, gcv_mode=None, normalize=False,\n",
       "    scoring=None, store_cv_values=True)"
      ]
     },
     "execution_count": 71,
     "metadata": {},
     "output_type": "execute_result"
    }
   ],
   "source": [
    "alpha_test = np.linspace(0.01,1)\n",
    "r_cv = RidgeCV(alphas= alpha_test, store_cv_values=True)\n",
    "r_cv.fit(boston.data,boston.target)"
   ]
  },
  {
   "cell_type": "code",
   "execution_count": 72,
   "metadata": {},
   "outputs": [
    {
     "data": {
      "text/plain": [
       "(506, 50)"
      ]
     },
     "execution_count": 72,
     "metadata": {},
     "output_type": "execute_result"
    }
   ],
   "source": [
    "r_cv.cv_values_.shape"
   ]
  },
  {
   "cell_type": "markdown",
   "metadata": {},
   "source": [
    "## Initially,  506 values in the initial regression, tested 50 different alpha values"
   ]
  },
  {
   "cell_type": "code",
   "execution_count": 74,
   "metadata": {},
   "outputs": [
    {
     "data": {
      "text/plain": [
       "0.030204081632653063"
      ]
     },
     "execution_count": 74,
     "metadata": {},
     "output_type": "execute_result"
    }
   ],
   "source": [
    "smallest_idx = r_cv.cv_values_.mean(axis=0).argmin()\n",
    "alpha_test[smallest_idx]"
   ]
  },
  {
   "cell_type": "code",
   "execution_count": 75,
   "metadata": {},
   "outputs": [
    {
     "data": {
      "text/plain": [
       "0.030204081632653063"
      ]
     },
     "execution_count": 75,
     "metadata": {},
     "output_type": "execute_result"
    }
   ],
   "source": [
    "# check\n",
    "r_cv.alpha_"
   ]
  },
  {
   "cell_type": "markdown",
   "metadata": {},
   "source": [
    "## Using loss function\n",
    "Since this is a loss function, we use sklearn to flip the sign from maximization problem to minimization problem."
   ]
  },
  {
   "cell_type": "code",
   "execution_count": 78,
   "metadata": {
    "collapsed": true
   },
   "outputs": [],
   "source": [
    "from sklearn.metrics import mean_absolute_error\n",
    "from sklearn.metrics import make_scorer\n",
    "MAD_scorer = make_scorer(mean_absolute_error,greater_is_better=True)"
   ]
  },
  {
   "cell_type": "code",
   "execution_count": 79,
   "metadata": {},
   "outputs": [],
   "source": [
    "r_cv =RidgeCV(alphas = alpha_test, store_cv_values= True, scoring= MAD_scorer)\n",
    "r_cv.fit(boston.data,boston.target)\n",
    "smallest_idx = r_cv.cv_values_.mean(axis=0).argmin()"
   ]
  },
  {
   "cell_type": "code",
   "execution_count": 82,
   "metadata": {},
   "outputs": [
    {
     "data": {
      "text/plain": [
       "-0.021080465905580974"
      ]
     },
     "execution_count": 82,
     "metadata": {},
     "output_type": "execute_result"
    }
   ],
   "source": [
    "r_cv.cv_values_.mean(axis=0)[smallest_idx]"
   ]
  },
  {
   "cell_type": "code",
   "execution_count": 83,
   "metadata": {},
   "outputs": [
    {
     "data": {
      "text/plain": [
       "0.01"
      ]
     },
     "execution_count": 83,
     "metadata": {},
     "output_type": "execute_result"
    }
   ],
   "source": [
    "alpha_test[smallest_idx]"
   ]
  },
  {
   "cell_type": "markdown",
   "metadata": {},
   "source": [
    "## Bayesian Ridge Regression"
   ]
  },
  {
   "cell_type": "code",
   "execution_count": null,
   "metadata": {
    "collapsed": true
   },
   "outputs": [],
   "source": [
    "from sklearn.linear_model import BayesianRidge\n"
   ]
  }
 ],
 "metadata": {
  "kernelspec": {
   "display_name": "Python 3",
   "language": "python",
   "name": "python3"
  },
  "language_info": {
   "codemirror_mode": {
    "name": "ipython",
    "version": 3
   },
   "file_extension": ".py",
   "mimetype": "text/x-python",
   "name": "python",
   "nbconvert_exporter": "python",
   "pygments_lexer": "ipython3",
   "version": "3.6.2"
  }
 },
 "nbformat": 4,
 "nbformat_minor": 2
}
